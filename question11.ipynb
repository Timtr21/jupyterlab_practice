{
 "cells": [
  {
   "cell_type": "markdown",
   "id": "1aba82ae-d917-4946-9498-07476bdd0aa7",
   "metadata": {},
   "source": [
    "# Tim Truong\n",
    "\n",
    "## Notebook for assignment 7\n"
   ]
  },
  {
   "cell_type": "code",
   "execution_count": 1,
   "id": "f1f73512-1ea7-41ed-a26a-1bfbd44b91c6",
   "metadata": {},
   "outputs": [
    {
     "name": "stdout",
     "output_type": "stream",
     "text": [
      "5.0\n"
     ]
    }
   ],
   "source": [
    "def compute_mean(values):\n",
    "    \"\"\"\n",
    "    Computes the mean of a list of numbers.\n",
    "    \"\"\"\n",
    "    mean = sum(values) / len(values)\n",
    "    print(mean)\n",
    "\n",
    "# Call the function\n",
    "compute_mean([2, 4, 6, 8])\n"
   ]
  },
  {
   "cell_type": "markdown",
   "id": "42c857c8-a480-416e-b6aa-0cf9f153fdaf",
   "metadata": {},
   "source": [
    "This code defines a function called `compute_mean` that calculates the mean of a list of numbers. It sums up all the elements in the list and divides the sum by the number of elements.\n",
    "\n",
    "The mean is represented by the following equation:\n",
    "\n",
    "\n",
    "  $$ \n",
    "  \\bar{x} = \\frac{x_1 + x_2 + \\cdots + x_n}{n} = \\frac{1}{n} \\sum_{i=1}^{n} x_i \n",
    "  $$\n",
    "\n",
    "\n",
    "   \n",
    "Here:\n",
    "- $ \\bar{x} $ is the mean of the dataset.\n",
    "- $ x_i $ represents the individual elements of the dataset.\n",
    "- $ n $  is the total number of elements.\n"
   ]
  },
  {
   "cell_type": "code",
   "execution_count": null,
   "id": "05d0032b-e46b-41ec-b2a9-97328c1d36df",
   "metadata": {},
   "outputs": [],
   "source": []
  }
 ],
 "metadata": {
  "kernelspec": {
   "display_name": "Python [conda env:jupyterlab_env]",
   "language": "python",
   "name": "conda-env-jupyterlab_env-py"
  },
  "language_info": {
   "codemirror_mode": {
    "name": "ipython",
    "version": 3
   },
   "file_extension": ".py",
   "mimetype": "text/x-python",
   "name": "python",
   "nbconvert_exporter": "python",
   "pygments_lexer": "ipython3",
   "version": "3.9.21"
  }
 },
 "nbformat": 4,
 "nbformat_minor": 5
}
