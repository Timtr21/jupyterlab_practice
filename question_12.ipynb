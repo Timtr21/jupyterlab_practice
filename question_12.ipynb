{
 "cells": [
  {
   "cell_type": "markdown",
   "id": "a7074e64-4f2f-4682-8c14-ccbba07d1519",
   "metadata": {},
   "source": [
    "We are currently working in the following directory:\n"
   ]
  },
  {
   "cell_type": "code",
   "execution_count": 11,
   "id": "6d3d16d0-3284-47ae-9fd2-ffcb7665bff4",
   "metadata": {},
   "outputs": [
    {
     "name": "stdout",
     "output_type": "stream",
     "text": [
      "/Users/thuantruong/Desktop/UBC_DS/jupyterlab_practice\n"
     ]
    }
   ],
   "source": [
    "!pwd\n"
   ]
  },
  {
   "cell_type": "markdown",
   "id": "9656f333-579d-41ed-8a74-754bbc89a41c",
   "metadata": {},
   "source": [
    "To time how long it takes to run a Python cell, we could use the `timeit` command inside a cell as is shown below:\n",
    "\n",
    "```python\n",
    "%%timeit\n",
    "for i in range(1_000_000):\n",
    "    i**2\n"
   ]
  }
 ],
 "metadata": {
  "kernelspec": {
   "display_name": "Python [conda env:jupyterlab_env]",
   "language": "python",
   "name": "conda-env-jupyterlab_env-py"
  },
  "language_info": {
   "codemirror_mode": {
    "name": "ipython",
    "version": 3
   },
   "file_extension": ".py",
   "mimetype": "text/x-python",
   "name": "python",
   "nbconvert_exporter": "python",
   "pygments_lexer": "ipython3",
   "version": "3.9.21"
  }
 },
 "nbformat": 4,
 "nbformat_minor": 5
}
